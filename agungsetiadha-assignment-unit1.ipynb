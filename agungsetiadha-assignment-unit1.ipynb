{
 "cells": [
  {
   "cell_type": "code",
   "execution_count": 1,
   "id": "d003b179-c522-44b7-be80-e0406bf44c8b",
   "metadata": {
    "tags": []
   },
   "outputs": [
    {
     "data": {
      "text/html": [
       "<span style=white-space:pre-wrap>'data730               *  /home/studio-lab-user/.conda/envs/data730'</span>"
      ],
      "text/latex": [
       "'data730               *  /home/studio-lab-user/.conda/envs/data730'"
      ],
      "text/markdown": [
       "<span style=white-space:pre-wrap>'data730               *  /home/studio-lab-user/.conda/envs/data730'</span>"
      ],
      "text/plain": [
       "[1] \"data730               *  /home/studio-lab-user/.conda/envs/data730\""
      ]
     },
     "metadata": {},
     "output_type": "display_data"
    }
   ],
   "source": [
    "system('conda env list | grep data730', intern = TRUE)"
   ]
  },
  {
   "cell_type": "code",
   "execution_count": 2,
   "id": "415e0ab8-1ccb-4126-aaec-c434808dbbad",
   "metadata": {
    "tags": []
   },
   "outputs": [
    {
     "name": "stderr",
     "output_type": "stream",
     "text": [
      "Warning message:\n",
      "“Your system is mis-configured: ‘/var/db/timezone/localtime’ is not a symlink”\n",
      "Warning message:\n",
      "“‘/var/db/timezone/localtime’ is not identical to any known timezone file”\n",
      "── \u001b[1mAttaching core tidyverse packages\u001b[22m ──────────────────────── tidyverse 2.0.0 ──\n",
      "\u001b[32m✔\u001b[39m \u001b[34mforcats  \u001b[39m 1.0.0     \u001b[32m✔\u001b[39m \u001b[34mreadr    \u001b[39m 2.1.5\n",
      "\u001b[32m✔\u001b[39m \u001b[34mggplot2  \u001b[39m 3.5.1     \u001b[32m✔\u001b[39m \u001b[34mstringr  \u001b[39m 1.5.1\n",
      "\u001b[32m✔\u001b[39m \u001b[34mlubridate\u001b[39m 1.9.3     \u001b[32m✔\u001b[39m \u001b[34mtibble   \u001b[39m 3.2.1\n",
      "\u001b[32m✔\u001b[39m \u001b[34mpurrr    \u001b[39m 1.0.2     \u001b[32m✔\u001b[39m \u001b[34mtidyr    \u001b[39m 1.3.1\n",
      "── \u001b[1mAttaching packages\u001b[22m ────────────────────────────────────── tidymodels 1.2.0 ──\n",
      "\n",
      "\u001b[32m✔\u001b[39m \u001b[34mbroom       \u001b[39m 1.0.6     \u001b[32m✔\u001b[39m \u001b[34mrsample     \u001b[39m 1.2.1\n",
      "\u001b[32m✔\u001b[39m \u001b[34mdials       \u001b[39m 1.2.1     \u001b[32m✔\u001b[39m \u001b[34mtune        \u001b[39m 1.2.1\n",
      "\u001b[32m✔\u001b[39m \u001b[34minfer       \u001b[39m 1.0.7     \u001b[32m✔\u001b[39m \u001b[34mworkflows   \u001b[39m 1.1.4\n",
      "\u001b[32m✔\u001b[39m \u001b[34mmodeldata   \u001b[39m 1.4.0     \u001b[32m✔\u001b[39m \u001b[34mworkflowsets\u001b[39m 1.1.0\n",
      "\u001b[32m✔\u001b[39m \u001b[34mparsnip     \u001b[39m 1.2.1     \u001b[32m✔\u001b[39m \u001b[34myardstick   \u001b[39m 1.3.1\n",
      "\u001b[32m✔\u001b[39m \u001b[34mrecipes     \u001b[39m 1.1.0     \n",
      "\n"
     ]
    }
   ],
   "source": [
    "library('conflicted')\n",
    "library('dplyr')\n",
    "library('tidyverse')\n",
    "library('tidymodels')\n",
    "library('recipes')\n",
    "library('workflows')"
   ]
  },
  {
   "cell_type": "code",
   "execution_count": 3,
   "id": "06f09688-15ec-45c3-9949-6a5a18489754",
   "metadata": {
    "tags": []
   },
   "outputs": [
    {
     "data": {
      "text/html": [
       "<table class=\"dataframe\">\n",
       "<caption>A tibble: 6 × 12</caption>\n",
       "<thead>\n",
       "\t<tr><th scope=col>era</th><th scope=col>season_number</th><th scope=col>serial_title</th><th scope=col>story_number</th><th scope=col>episode_number</th><th scope=col>episode_title</th><th scope=col>type</th><th scope=col>first_aired</th><th scope=col>production_code</th><th scope=col>uk_viewers</th><th scope=col>rating</th><th scope=col>duration</th></tr>\n",
       "\t<tr><th scope=col>&lt;chr&gt;</th><th scope=col>&lt;dbl&gt;</th><th scope=col>&lt;chr&gt;</th><th scope=col>&lt;chr&gt;</th><th scope=col>&lt;dbl&gt;</th><th scope=col>&lt;chr&gt;</th><th scope=col>&lt;chr&gt;</th><th scope=col>&lt;date&gt;</th><th scope=col>&lt;chr&gt;</th><th scope=col>&lt;dbl&gt;</th><th scope=col>&lt;dbl&gt;</th><th scope=col>&lt;dbl&gt;</th></tr>\n",
       "</thead>\n",
       "<tbody>\n",
       "\t<tr><td>revived</td><td>1</td><td>NA</td><td>157 </td><td>1</td><td>Rose                </td><td>episode</td><td>2005-03-26</td><td>1.1</td><td>10.81</td><td>76</td><td>45</td></tr>\n",
       "\t<tr><td>revived</td><td>1</td><td>NA</td><td>158 </td><td>2</td><td>The End of the World</td><td>episode</td><td>2005-04-02</td><td>1.2</td><td> 7.97</td><td>76</td><td>44</td></tr>\n",
       "\t<tr><td>revived</td><td>1</td><td>NA</td><td>159 </td><td>3</td><td>The Unquiet Dead    </td><td>episode</td><td>2005-04-09</td><td>1.3</td><td> 8.86</td><td>80</td><td>44</td></tr>\n",
       "\t<tr><td>revived</td><td>1</td><td>NA</td><td>160a</td><td>4</td><td>Aliens of London    </td><td>episode</td><td>2005-04-16</td><td>1.4</td><td> 7.63</td><td>82</td><td>45</td></tr>\n",
       "\t<tr><td>revived</td><td>1</td><td>NA</td><td>160b</td><td>5</td><td>World War Three     </td><td>episode</td><td>2005-04-23</td><td>1.5</td><td> 7.98</td><td>81</td><td>42</td></tr>\n",
       "\t<tr><td>revived</td><td>1</td><td>NA</td><td>161 </td><td>6</td><td>Dalek               </td><td>episode</td><td>2005-04-30</td><td>1.6</td><td> 8.63</td><td>84</td><td>45</td></tr>\n",
       "</tbody>\n",
       "</table>\n"
      ],
      "text/latex": [
       "A tibble: 6 × 12\n",
       "\\begin{tabular}{llllllllllll}\n",
       " era & season\\_number & serial\\_title & story\\_number & episode\\_number & episode\\_title & type & first\\_aired & production\\_code & uk\\_viewers & rating & duration\\\\\n",
       " <chr> & <dbl> & <chr> & <chr> & <dbl> & <chr> & <chr> & <date> & <chr> & <dbl> & <dbl> & <dbl>\\\\\n",
       "\\hline\n",
       "\t revived & 1 & NA & 157  & 1 & Rose                 & episode & 2005-03-26 & 1.1 & 10.81 & 76 & 45\\\\\n",
       "\t revived & 1 & NA & 158  & 2 & The End of the World & episode & 2005-04-02 & 1.2 &  7.97 & 76 & 44\\\\\n",
       "\t revived & 1 & NA & 159  & 3 & The Unquiet Dead     & episode & 2005-04-09 & 1.3 &  8.86 & 80 & 44\\\\\n",
       "\t revived & 1 & NA & 160a & 4 & Aliens of London     & episode & 2005-04-16 & 1.4 &  7.63 & 82 & 45\\\\\n",
       "\t revived & 1 & NA & 160b & 5 & World War Three      & episode & 2005-04-23 & 1.5 &  7.98 & 81 & 42\\\\\n",
       "\t revived & 1 & NA & 161  & 6 & Dalek                & episode & 2005-04-30 & 1.6 &  8.63 & 84 & 45\\\\\n",
       "\\end{tabular}\n"
      ],
      "text/markdown": [
       "\n",
       "A tibble: 6 × 12\n",
       "\n",
       "| era &lt;chr&gt; | season_number &lt;dbl&gt; | serial_title &lt;chr&gt; | story_number &lt;chr&gt; | episode_number &lt;dbl&gt; | episode_title &lt;chr&gt; | type &lt;chr&gt; | first_aired &lt;date&gt; | production_code &lt;chr&gt; | uk_viewers &lt;dbl&gt; | rating &lt;dbl&gt; | duration &lt;dbl&gt; |\n",
       "|---|---|---|---|---|---|---|---|---|---|---|---|\n",
       "| revived | 1 | NA | 157  | 1 | Rose                 | episode | 2005-03-26 | 1.1 | 10.81 | 76 | 45 |\n",
       "| revived | 1 | NA | 158  | 2 | The End of the World | episode | 2005-04-02 | 1.2 |  7.97 | 76 | 44 |\n",
       "| revived | 1 | NA | 159  | 3 | The Unquiet Dead     | episode | 2005-04-09 | 1.3 |  8.86 | 80 | 44 |\n",
       "| revived | 1 | NA | 160a | 4 | Aliens of London     | episode | 2005-04-16 | 1.4 |  7.63 | 82 | 45 |\n",
       "| revived | 1 | NA | 160b | 5 | World War Three      | episode | 2005-04-23 | 1.5 |  7.98 | 81 | 42 |\n",
       "| revived | 1 | NA | 161  | 6 | Dalek                | episode | 2005-04-30 | 1.6 |  8.63 | 84 | 45 |\n",
       "\n"
      ],
      "text/plain": [
       "  era     season_number serial_title story_number episode_number\n",
       "1 revived 1             NA           157          1             \n",
       "2 revived 1             NA           158          2             \n",
       "3 revived 1             NA           159          3             \n",
       "4 revived 1             NA           160a         4             \n",
       "5 revived 1             NA           160b         5             \n",
       "6 revived 1             NA           161          6             \n",
       "  episode_title        type    first_aired production_code uk_viewers rating\n",
       "1 Rose                 episode 2005-03-26  1.1             10.81      76    \n",
       "2 The End of the World episode 2005-04-02  1.2              7.97      76    \n",
       "3 The Unquiet Dead     episode 2005-04-09  1.3              8.86      80    \n",
       "4 Aliens of London     episode 2005-04-16  1.4              7.63      82    \n",
       "5 World War Three      episode 2005-04-23  1.5              7.98      81    \n",
       "6 Dalek                episode 2005-04-30  1.6              8.63      84    \n",
       "  duration\n",
       "1 45      \n",
       "2 44      \n",
       "3 44      \n",
       "4 45      \n",
       "5 42      \n",
       "6 45      "
      ]
     },
     "metadata": {},
     "output_type": "display_data"
    }
   ],
   "source": [
    "data_url = \"https://raw.githubusercontent.com/rfordatascience/tidytuesday/master/data/2021/2021-11-23/episodes.csv\"\n",
    "dr_who_raw = read_csv(data_url, col_types = cols())\n",
    "dr_who_raw |> head()"
   ]
  },
  {
   "cell_type": "code",
   "execution_count": 6,
   "id": "f532b5e8-486e-4b83-b11a-288889a6d63e",
   "metadata": {
    "tags": []
   },
   "outputs": [
    {
     "name": "stdout",
     "output_type": "stream",
     "text": [
      "Rows: 1,000\n",
      "Columns: 2\n",
      "$ splits \u001b[3m\u001b[90m<list>\u001b[39m\u001b[23m [<boot_split[172 x 65 x 172 x 12]>], [<boot_split[172 x 55 x 1…\n",
      "$ id     \u001b[3m\u001b[90m<chr>\u001b[39m\u001b[23m \"Bootstrap0001\", \"Bootstrap0002\", \"Bootstrap0003\", \"Bootstrap00…\n"
     ]
    }
   ],
   "source": [
    "boots = bootstraps(dr_who_raw, times = 1000)\n",
    "\n",
    "boots |> glimpse()"
   ]
  },
  {
   "cell_type": "code",
   "execution_count": 7,
   "id": "436e754e-89c3-4b85-8cab-b653bdb701cf",
   "metadata": {
    "tags": []
   },
   "outputs": [],
   "source": [
    "toss_fair_coin_n_times = function(n_tosses = 250) {\n",
    "    result = ifelse(runif(n = n_tosses) < 0.5, 'heads', 'tails')\n",
    "    result\n",
    "}\n",
    "\n",
    "repeat_the_experiment = function(n_iterations, n_tosses = 250) {\n",
    "    n_heads_each_iteration = c()\n",
    "    for (i in 1:n_iterations) {\n",
    "        n_heads = sum(toss_fair_coin_n_times(n_tosses) == 'heads')\n",
    "        n_heads_each_iteration = c(n_heads_each_iteration, n_heads)\n",
    "    }\n",
    "    n_heads_each_iteration\n",
    "}"
   ]
  },
  {
   "cell_type": "code",
   "execution_count": 8,
   "id": "51208c2e-2d6e-4a09-8a9d-e2443b9b3c64",
   "metadata": {
    "tags": []
   },
   "outputs": [
    {
     "data": {
      "text/html": [
       "'With a fair coin we could expect a deviation as large or larger than we observed 8.61% of times'"
      ],
      "text/latex": [
       "'With a fair coin we could expect a deviation as large or larger than we observed 8.61\\% of times'"
      ],
      "text/markdown": [
       "'With a fair coin we could expect a deviation as large or larger than we observed 8.61% of times'"
      ],
      "text/plain": [
       "[1] \"With a fair coin we could expect a deviation as large or larger than we observed 8.61% of times\""
      ]
     },
     "metadata": {},
     "output_type": "display_data"
    }
   ],
   "source": [
    "n_iterations = 10000\n",
    "n_tosses = 250\n",
    "observed_deviation = 139 - 125 #heads observed, expected value for a fair coin of 125\n",
    "\n",
    "n_heads_each_experiment = repeat_the_experiment(n_iterations, n_tosses)\n",
    "\n",
    "x = mean(abs(n_heads_each_experiment - 125) >= observed_deviation)\n",
    "paste0('With a fair coin we could expect a deviation as large or larger than we observed ', x*100, '% of times')"
   ]
  },
  {
   "cell_type": "markdown",
   "id": "f1d67610-3326-4618-9dd3-150027908314",
   "metadata": {},
   "source": [
    "# I think so"
   ]
  },
  {
   "cell_type": "code",
   "execution_count": null,
   "id": "37efa1ac-ed96-4ac4-8a89-1037926423aa",
   "metadata": {},
   "outputs": [],
   "source": []
  }
 ],
 "metadata": {
  "kernelspec": {
   "display_name": ".conda-data730:R",
   "language": "R",
   "name": "conda-env-.conda-data730-r"
  },
  "language_info": {
   "codemirror_mode": "r",
   "file_extension": ".r",
   "mimetype": "text/x-r-source",
   "name": "R",
   "pygments_lexer": "r",
   "version": "4.3.3"
  }
 },
 "nbformat": 4,
 "nbformat_minor": 5
}
